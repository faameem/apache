{
 "cells": [
  {
   "cell_type": "markdown",
   "metadata": {},
   "source": [
    "# Cloudera in VirtualBox #\n",
    "\n",
    "+ Download [Oracle VirtualBox](https://www.virtualbox.org/) and install.\n",
    "+ Download [Cloudera Quickstart](http://www.cloudera.com/downloads.html).\n",
    "+ Import Cloudera ovf file into VirtualBox"
   ]
  },
  {
   "cell_type": "markdown",
   "metadata": {},
   "source": [
    "# Anaconda in Cloudera Quickstart #\n",
    "\n",
    "+ Start Cloudera Quickstart in VirtualBox.\n",
    "+ Download [Anaconda 64bit for Python 2.x](https://www.continuum.io/downloads) into ~/Downloads.\n",
    "+ Install Anaconda using:\n",
    "    - $ bash anaconda-file\n",
    "+ Accept all prompts\n",
    "+ Copy .bashrc file\n",
    "+ Add this export command to .bashrc\n",
    "    - export PYSPARK_DRIVER_PYTHON_OPTS=\"/home/cloudera/anaconda2/bin/jupyter-notebook\"\n",
    "+ Source .bashrc or close/open Terminal"
   ]
  },
  {
   "cell_type": "markdown",
   "metadata": {},
   "source": [
    "# FileZilla SFTP ##\n",
    "\n",
    "+ Setup VirtualBox VM port for SFTP\n",
    "    - VirtualBox VM settings\n",
    "    - Network\n",
    "    - Advanced\n",
    "    - Port config\n",
    "    - 22 -- 2222 -- 22\n",
    "+ Download [FileZilla](https://filezilla-project.org/) on Windows or Mac and install.\n",
    "+ Setup SFTP connection to VirtualBox VM with host as localhost and port 2222."
   ]
  },
  {
   "cell_type": "markdown",
   "metadata": {},
   "source": [
    "## Git ##\n",
    "\n",
    "+ Create github directory\n",
    "    - $ cd\n",
    "    \n",
    "    - $ mkdir github\n",
    "    \n",
    "    - $ cd github\n",
    "    \n",
    "+ Clone repository apache\n",
    "    - $ git clone https://faameem@github.com/faameem/apache\n",
    "    \n",
    "+ Correct URL for account connection with password\n",
    "    - $ cp ~/github/spark/.git/config ~/github/spark/.git/config.date\n",
    "    \n",
    "    - $ vim ~/github/spark/.git/config\n",
    "    \n",
    "    - URL=https://faameem@github.com/faameem/apache\n",
    "+ Git commands\n",
    "    - $ git status\n",
    "    \n",
    "    - $ git add filename\n",
    "    \n",
    "    - $ git commit -m message\n",
    "    \n",
    "    - $ git push -- to master \n",
    "    \n",
    "    - $ git pull -- from master"
   ]
  }
 ],
 "metadata": {
  "kernelspec": {
   "display_name": "Python [Root]",
   "language": "python",
   "name": "Python [Root]"
  },
  "language_info": {
   "codemirror_mode": {
    "name": "ipython",
    "version": 2
   },
   "file_extension": ".py",
   "mimetype": "text/x-python",
   "name": "python",
   "nbconvert_exporter": "python",
   "pygments_lexer": "ipython2",
   "version": "2.7.12"
  }
 },
 "nbformat": 4,
 "nbformat_minor": 0
}

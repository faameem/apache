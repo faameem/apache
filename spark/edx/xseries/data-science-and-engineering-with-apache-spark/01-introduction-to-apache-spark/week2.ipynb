{
 "cells": [
  {
   "cell_type": "markdown",
   "metadata": {},
   "source": [
    "### Spark Join Examples ###"
   ]
  },
  {
   "cell_type": "code",
   "execution_count": 3,
   "metadata": {
    "collapsed": false
   },
   "outputs": [],
   "source": [
    "## data as python list of tuples\n",
    "data1=[(\"Alice\",1),(\"Bob\",2)]\n",
    "data2=[(\"Chris\",80),(\"Bob\",85)]\n",
    "\n",
    "# spark dataframes\n",
    "df1=sqlContext.createDataFrame(data1,[\"name\",\"age\"])\n",
    "df2=sqlContext.createDataFrame(data2,[\"name\",\"height\"])"
   ]
  },
  {
   "cell_type": "code",
   "execution_count": 4,
   "metadata": {
    "collapsed": false
   },
   "outputs": [
    {
     "name": "stdout",
     "output_type": "stream",
     "text": [
      "+----+---+------+\n",
      "|name|age|height|\n",
      "+----+---+------+\n",
      "| Bob|  2|    85|\n",
      "+----+---+------+\n",
      "\n"
     ]
    }
   ],
   "source": [
    "# sparksql join\n",
    "df_inner_join=df1.join(df2,\"name\")\n",
    "df_inner_join.show()"
   ]
  },
  {
   "cell_type": "code",
   "execution_count": 5,
   "metadata": {
    "collapsed": false
   },
   "outputs": [
    {
     "name": "stdout",
     "output_type": "stream",
     "text": [
      "+----+------+\n",
      "|name|height|\n",
      "+----+------+\n",
      "| Bob|    85|\n",
      "+----+------+\n",
      "\n"
     ]
    }
   ],
   "source": [
    "## sparksql join with select\n",
    "df_inner_join_select=df_inner_join.select(df_inner_join.name,df_inner_join.height)\n",
    "df_inner_join_select.show()"
   ]
  },
  {
   "cell_type": "code",
   "execution_count": 8,
   "metadata": {
    "collapsed": false
   },
   "outputs": [
    {
     "name": "stdout",
     "output_type": "stream",
     "text": [
      "+-----+----+------+\n",
      "| name| age|height|\n",
      "+-----+----+------+\n",
      "|Chris|null|    80|\n",
      "|Alice|   1|  null|\n",
      "|  Bob|   2|    85|\n",
      "+-----+----+------+\n",
      "\n"
     ]
    }
   ],
   "source": [
    "## sparksql full outer join\n",
    "df_outer=df1.join(df2,\"name\",\"outer\")\n",
    "df_outer.show()"
   ]
  },
  {
   "cell_type": "code",
   "execution_count": 9,
   "metadata": {
    "collapsed": false
   },
   "outputs": [
    {
     "name": "stdout",
     "output_type": "stream",
     "text": [
      "+-----+------+\n",
      "| name|height|\n",
      "+-----+------+\n",
      "|Chris|    80|\n",
      "|Alice|  null|\n",
      "|  Bob|    85|\n",
      "+-----+------+\n",
      "\n"
     ]
    }
   ],
   "source": [
    "## sparksql full outer join with select\n",
    "df_outer_select=df_outer.select(\"name\",\"height\")\n",
    "df_outer_select.show()"
   ]
  },
  {
   "cell_type": "code",
   "execution_count": 11,
   "metadata": {
    "collapsed": false
   },
   "outputs": [
    {
     "name": "stdout",
     "output_type": "stream",
     "text": [
      "+-----+---+------+\n",
      "| name|age|height|\n",
      "+-----+---+------+\n",
      "|Alice|  1|  null|\n",
      "|  Bob|  2|    85|\n",
      "+-----+---+------+\n",
      "\n"
     ]
    }
   ],
   "source": [
    "## sparksql left outer join\n",
    "df_left_outer=df1.join(df2,\"name\",\"left_outer\")\n",
    "df_left_outer.show()"
   ]
  },
  {
   "cell_type": "code",
   "execution_count": 12,
   "metadata": {
    "collapsed": false
   },
   "outputs": [
    {
     "name": "stdout",
     "output_type": "stream",
     "text": [
      "+-----+----+------+\n",
      "| name| age|height|\n",
      "+-----+----+------+\n",
      "|Chris|null|    80|\n",
      "|  Bob|   2|    85|\n",
      "+-----+----+------+\n",
      "\n"
     ]
    }
   ],
   "source": [
    "## sparksql right outer join\n",
    "df_right_outer=df1.join(df2,\"name\",\"right_outer\")\n",
    "df_right_outer.show()"
   ]
  },
  {
   "cell_type": "code",
   "execution_count": null,
   "metadata": {
    "collapsed": true
   },
   "outputs": [],
   "source": []
  }
 ],
 "metadata": {
  "kernelspec": {
   "display_name": "Python [Root]",
   "language": "python",
   "name": "Python [Root]"
  },
  "language_info": {
   "codemirror_mode": {
    "name": "ipython",
    "version": 2
   },
   "file_extension": ".py",
   "mimetype": "text/x-python",
   "name": "python",
   "nbconvert_exporter": "python",
   "pygments_lexer": "ipython2",
   "version": "2.7.12"
  }
 },
 "nbformat": 4,
 "nbformat_minor": 0
}

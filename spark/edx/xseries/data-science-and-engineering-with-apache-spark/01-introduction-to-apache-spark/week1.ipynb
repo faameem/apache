{
 "cells": [
  {
   "cell_type": "code",
   "execution_count": 1,
   "metadata": {
    "collapsed": false
   },
   "outputs": [
    {
     "data": {
      "text/plain": [
       "u'1.6.0'"
      ]
     },
     "execution_count": 1,
     "metadata": {},
     "output_type": "execute_result"
    }
   ],
   "source": [
    "sc.version"
   ]
  },
  {
   "cell_type": "code",
   "execution_count": 29,
   "metadata": {
    "collapsed": false
   },
   "outputs": [
    {
     "name": "stdout",
     "output_type": "stream",
     "text": [
      "data:\n",
      "[('Alice', 1), ('Bob', 2)]\n",
      "\n",
      "df:\n",
      "DataFrame[name: string, age: bigint]\n",
      "[Row(name=u'Alice', age=1), Row(name=u'Bob', age=2)]\n",
      "\n",
      "df_age10:\n",
      "DataFrame[name: string, age10: bigint]\n",
      "[Row(name=u'Alice', age10=11), Row(name=u'Bob', age10=12)]\n",
      "\n",
      "df:\n",
      "DataFrame[name: string, age: bigint]\n",
      "[Row(name=u'Alice', age=1), Row(name=u'Bob', age=2)]\n",
      "\n",
      "df_drop_age:\n",
      "DataFrame[name: string]\n",
      "[Row(name=u'Alice'), Row(name=u'Bob')]\n",
      "\n"
     ]
    }
   ],
   "source": [
    "# create dataframes from python collections (lists)\n",
    "data=[(\"Alice\",1),(\"Bob\",2)]\n",
    "print(\"data:\\n{}\\n\".format(data))\n",
    "\n",
    "df=sqlContext.createDataFrame(data,[\"name\",\"age\"])\n",
    "print(\"df:\\n{}\\n{}\\n\".format(df,df.take(10)))\n",
    "\n",
    "df_age10=df.select(df.name,(df.age+10).alias(\"age10\"))\n",
    "print(\"df_age10:\\n{}\\n{}\\n\".format(df_age10,df_age10.take(10)))\n",
    "\n",
    "df_drop_age=df.drop(df.age)\n",
    "print(\"df:\\n{}\\n{}\\n\".format(df,df.take(10)))\n",
    "print(\"df_drop_age:\\n{}\\n{}\\n\".format(df_drop_age,df_drop_age.take(10)))\n"
   ]
  },
  {
   "cell_type": "code",
   "execution_count": 16,
   "metadata": {
    "collapsed": false
   },
   "outputs": [
    {
     "name": "stdout",
     "output_type": "stream",
     "text": [
      "pdf:\n",
      "    name  age\n",
      "0  Alice    1\n",
      "1    Bob    2\n",
      "\n",
      "df:\n",
      "DataFrame[name: string, age: bigint]\n",
      "[Row(name=u'Alice', age=1), Row(name=u'Bob', age=2)]\n"
     ]
    }
   ],
   "source": [
    "# DataFrames using Python Pandas DataFrame\n",
    "# google: 10 Minutes to pandas\n",
    "import pandas as pd\n",
    "pdf=pd.DataFrame(data,columns=[\"name\",\"age\"])\n",
    "print(\"pdf:\\n{}\\n\".format(pdf))\n",
    "df=sqlContext.createDataFrame(pdf)\n",
    "print(\"df:\\n{}\\n{}\".format(df,df.take(10)))"
   ]
  },
  {
   "cell_type": "code",
   "execution_count": 25,
   "metadata": {
    "collapsed": false
   },
   "outputs": [
    {
     "name": "stdout",
     "output_type": "stream",
     "text": [
      "df:\n",
      "DataFrame[value: string]\n",
      "[Row(value=u'hello world'), Row(value=u'this is good'), Row(value=u'3rd line')]\n"
     ]
    }
   ],
   "source": [
    "# create README.txt file in data dir and add couple of lines to it.\n",
    "# create /user/cloudera/README.txt file in hdfs\n",
    "# $ hdfs dfs -ls /user/cloudera\n",
    "# $ hdfs dfs -put README.txt /user/cloudera\n",
    "# google: hadoop file system shell guide\n",
    "df=sqlContext.read.text(\"/user/cloudera/README.txt\")\n",
    "print(\"df:\\n{}\\n{}\".format(df,df.take(10)))"
   ]
  },
  {
   "cell_type": "code",
   "execution_count": 30,
   "metadata": {
    "collapsed": false
   },
   "outputs": [
    {
     "data": {
      "text/plain": [
       "'2.7.12 |Anaconda 4.1.1 (64-bit)| (default, Jul  2 2016, 17:42:40) \\n[GCC 4.4.7 20120313 (Red Hat 4.4.7-1)]'"
      ]
     },
     "execution_count": 30,
     "metadata": {},
     "output_type": "execute_result"
    }
   ],
   "source": [
    "import sys\n",
    "sys.version"
   ]
  },
  {
   "cell_type": "code",
   "execution_count": null,
   "metadata": {
    "collapsed": true
   },
   "outputs": [],
   "source": []
  }
 ],
 "metadata": {
  "kernelspec": {
   "display_name": "Python [Root]",
   "language": "python",
   "name": "Python [Root]"
  },
  "language_info": {
   "codemirror_mode": {
    "name": "ipython",
    "version": 2
   },
   "file_extension": ".py",
   "mimetype": "text/x-python",
   "name": "python",
   "nbconvert_exporter": "python",
   "pygments_lexer": "ipython2",
   "version": "2.7.12"
  }
 },
 "nbformat": 4,
 "nbformat_minor": 0
}
